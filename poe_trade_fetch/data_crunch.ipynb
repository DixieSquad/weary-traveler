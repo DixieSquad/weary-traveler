{
 "cells": [
  {
   "cell_type": "markdown",
   "id": "a59fb30a-ba01-4788-b5fc-7ba2b18d8b71",
   "metadata": {},
   "source": [
    "# TO DO:\n",
    "- Potentially find the cost of quality currency (gcps)\n",
    "- Potentially scan the experience needed to level the gem and calculate the value per X amount of experience\n",
    "- Keep an eye on the number of listings\n",
    "- Make sure the prices from poe trade and poe ninja are in the same denomination"
   ]
  },
  {
   "cell_type": "code",
   "execution_count": 2,
   "id": "58a161c0-f6ee-40ab-acc0-5b1f009d6ad5",
   "metadata": {},
   "outputs": [
    {
     "name": "stderr",
     "output_type": "stream",
     "text": [
      "/tmp/ipykernel_4496/3026406390.py:1: DeprecationWarning: \n",
      "Pyarrow will become a required dependency of pandas in the next major release of pandas (pandas 3.0),\n",
      "(to allow more performant data types, such as the Arrow string type, and better interoperability with other libraries)\n",
      "but was not found to be installed on your system.\n",
      "If this would cause problems for you,\n",
      "please provide us feedback at https://github.com/pandas-dev/pandas/issues/54466\n",
      "        \n",
      "  import pandas as pd\n"
     ]
    }
   ],
   "source": [
    "import pandas as pd\n",
    "import os"
   ]
  },
  {
   "cell_type": "code",
   "execution_count": 6,
   "id": "7dd0f424-d5e1-47c3-bae7-f8dcfccb45b6",
   "metadata": {},
   "outputs": [
    {
     "name": "stdout",
     "output_type": "stream",
     "text": [
      "Price difference for Awakened Multistrike Support: -0.19999999999998863\n",
      "No data found for Awakened Spell Echo Support\n"
     ]
    }
   ],
   "source": [
    "working_dir = os.getcwd()\n",
    "trade_data_path = os.path.join(working_dir, 'data/trade')\n",
    "ninja_data_path = os.path.join(working_dir, 'data/ninja')\n",
    "\n",
    "trade_files = os.listdir(trade_data_path)\n",
    "ninja_file = os.path.join(ninja_data_path, 'poe_ninja_data.csv')\n",
    "poe_ninja_df = pd.read_csv(ninja_file)\n",
    "\n",
    "# if there is other files than .csv files in the folder:\n",
    "# csv_files = [file for file in files if file.endswith('.csv')]\n",
    "\n",
    "dataframes = {}\n",
    "\n",
    "for csv_file in trade_files:\n",
    "    file_path = os.path.join(folder_path, csv_file)\n",
    "    df = pd.read_csv(file_path)\n",
    "    dataframes[csv_file] = df\n",
    "\n",
    "for file_name, df in dataframes.items():\n",
    "    market_low = df['Price Amount'].mean()\n",
    "    item_name = df['Item Name'].iloc[0]  # Get the first item name as a scalar value\n",
    "\n",
    "    # Filter poe_ninja_df based on conditions and item_name\n",
    "    filtered_poe_ninja_df = poe_ninja_df[\n",
    "        (poe_ninja_df['Name'] == item_name) &\n",
    "        (poe_ninja_df['Corrupt'] == 'no') &\n",
    "        (poe_ninja_df['Level'] == 5)\n",
    "    ]\n",
    "\n",
    "    if not filtered_poe_ninja_df.empty:\n",
    "        market_high = filtered_poe_ninja_df['Value'].iloc[0]  # Get the first value\n",
    "        price_difference = market_high - market_low\n",
    "        print(f\"Price difference for {item_name}: {price_difference}\")\n",
    "    else:\n",
    "        print(f\"No data found for {item_name}\")"
   ]
  }
 ],
 "metadata": {
  "kernelspec": {
   "display_name": "Python 3 (ipykernel)",
   "language": "python",
   "name": "python3"
  },
  "language_info": {
   "codemirror_mode": {
    "name": "ipython",
    "version": 3
   },
   "file_extension": ".py",
   "mimetype": "text/x-python",
   "name": "python",
   "nbconvert_exporter": "python",
   "pygments_lexer": "ipython3",
   "version": "3.10.12"
  }
 },
 "nbformat": 4,
 "nbformat_minor": 5
}
